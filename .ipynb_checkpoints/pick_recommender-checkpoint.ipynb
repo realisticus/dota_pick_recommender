{
 "cells": [
  {
   "cell_type": "markdown",
   "metadata": {},
   "source": [
    "just a project"
   ]
  },
  {
   "cell_type": "markdown",
   "metadata": {},
   "source": [
    "here we import some necessary libs"
   ]
  },
  {
   "cell_type": "code",
   "execution_count": 1,
   "metadata": {
    "collapsed": true
   },
   "outputs": [],
   "source": [
    "import json\n",
    "import requests\n",
    "import time"
   ]
  },
  {
   "cell_type": "markdown",
   "metadata": {},
   "source": [
    "first we get a dict of all heroes, key=id, value=name"
   ]
  },
  {
   "cell_type": "code",
   "execution_count": 2,
   "metadata": {
    "collapsed": true
   },
   "outputs": [],
   "source": [
    "def all_heroes():\n",
    "    all_heroes = {}\n",
    "    r = requests.get(\"https://api.opendota.com/api/heroes\")\n",
    "    heroes_raw = json.loads(r.text)\n",
    "    for hero in heroes_raw:\n",
    "        all_heroes[hero['id']] = hero['localized_name']\n",
    "    return all_heroes"
   ]
  },
  {
   "cell_type": "code",
   "execution_count": 3,
   "metadata": {
    "collapsed": true
   },
   "outputs": [],
   "source": [
    "match_id = 3432354197"
   ]
  },
  {
   "cell_type": "markdown",
   "metadata": {},
   "source": [
    "here we form a match_info dict<br/>\n",
    "it has:\n",
    "* match_id\n",
    "* which faction won the match\n",
    "* list of heroes separated by faction"
   ]
  },
  {
   "cell_type": "code",
   "execution_count": 4,
   "metadata": {
    "collapsed": true
   },
   "outputs": [],
   "source": [
    "def full_match_info_dict(match_id):\n",
    "    '''returns full_match_info_dict from opendota api'''\n",
    "    r = requests.get(\"https://api.opendota.com/api/matches/{0}\".format(match_id))\n",
    "    raw_dict = json.loads(r.text)\n",
    "    if 'error' in raw_dict:\n",
    "        return None\n",
    "    else:\n",
    "        return raw_dict\n",
    "\n",
    "def avg_mmr(full_match_info_dict):\n",
    "    '''calculates avg_mmr of a match'''\n",
    "    ranks = []\n",
    "    for i in range(10):\n",
    "        ranks.append(full_match_info_dict['players']\n",
    "                     [i]['solo_competitive_rank'])\n",
    "    ranks = list(filter(None.__ne__, ranks))\n",
    "\n",
    "    try:\n",
    "        return sum(ranks) / len(ranks)\n",
    "    except ZeroDivisionError:\n",
    "        return None\n",
    "\n",
    "def match_id_parser(full_match_info_dict):\n",
    "    '''returns match_id of a match'''\n",
    "    return full_match_info_dict['match_id']\n",
    "\n",
    "def radiant_won(full_match_info_dict):\n",
    "    '''returns True if Radiant won the match'''\n",
    "    return full_match_info_dict['radiant_win']\n",
    "\n",
    "\n",
    "def match_heroes(full_match_info_dict):\n",
    "    '''returns a dict that looks like hero_id:is_radiant(bool)'''\n",
    "    heroes = {}\n",
    "    for i in range(10):\n",
    "        heroes[full_match_info_dict['players'][i]['hero_id']] = full_match_info_dict['players'][i]['isRadiant']\n",
    "    return heroes\n",
    "\n",
    "\n",
    "def parse_match(match_id):\n",
    "    '''compiles all info about a match\n",
    "    input = match_id, output = match_info dict'''\n",
    "    raw_match_info = full_match_info_dict(match_id)\n",
    "    match_info = {}\n",
    "    match_info['id'] = match_id\n",
    "    \n",
    "    if raw_match_info is not None:\n",
    "        match_info['parse_status'] = 'OK'\n",
    "        match_info['avg_mmr'] = avg_mmr(raw_match_info)\n",
    "        match_info['radiant_won'] = radiant_won(raw_match_info)\n",
    "        match_info['heroes'] = match_heroes(raw_match_info)\n",
    "    else:\n",
    "        match_info['parse_status'] = 'No match info'\n",
    "    \n",
    "    return match_info"
   ]
  },
  {
   "cell_type": "markdown",
   "metadata": {},
   "source": [
    "here we try to parse several matches"
   ]
  },
  {
   "cell_type": "code",
   "execution_count": 5,
   "metadata": {
    "collapsed": true
   },
   "outputs": [],
   "source": [
    "def n_matches_parser(starting_id, n):\n",
    "    '''returns a dict of a match_info dicts\n",
    "    opendota guys ask for request rate ≈ 3/sec'''\n",
    "    parsed_matches = []\n",
    "    for i in range(n):\n",
    "        parsed_matches.append(parse_match(starting_id + i))\n",
    "        time.sleep(0.1)\n",
    "    return parsed_matches"
   ]
  },
  {
   "cell_type": "code",
   "execution_count": 6,
   "metadata": {},
   "outputs": [
    {
     "data": {
      "text/plain": [
       "[{'avg_mmr': 4395.0,\n",
       "  'heroes': {10: True,\n",
       "   30: False,\n",
       "   36: False,\n",
       "   40: False,\n",
       "   47: True,\n",
       "   58: True,\n",
       "   63: False,\n",
       "   64: False,\n",
       "   74: True,\n",
       "   87: True},\n",
       "  'id': 3432354197,\n",
       "  'parse_status': 'OK',\n",
       "  'radiant_won': True},\n",
       " {'avg_mmr': 1168.0,\n",
       "  'heroes': {14: False,\n",
       "   20: False,\n",
       "   23: True,\n",
       "   28: True,\n",
       "   36: True,\n",
       "   38: True,\n",
       "   52: False,\n",
       "   97: True,\n",
       "   103: False,\n",
       "   104: False},\n",
       "  'id': 3432354198,\n",
       "  'parse_status': 'OK',\n",
       "  'radiant_won': False},\n",
       " {'avg_mmr': None,\n",
       "  'heroes': {1: False,\n",
       "   28: True,\n",
       "   29: True,\n",
       "   47: False,\n",
       "   49: True,\n",
       "   71: False,\n",
       "   92: False,\n",
       "   101: False,\n",
       "   106: True,\n",
       "   108: True},\n",
       "  'id': 3432354199,\n",
       "  'parse_status': 'OK',\n",
       "  'radiant_won': True},\n",
       " {'avg_mmr': 2155.5,\n",
       "  'heroes': {6: True,\n",
       "   16: True,\n",
       "   19: True,\n",
       "   23: True,\n",
       "   26: False,\n",
       "   28: False,\n",
       "   44: False,\n",
       "   46: False,\n",
       "   70: True,\n",
       "   96: False},\n",
       "  'id': 3432354200,\n",
       "  'parse_status': 'OK',\n",
       "  'radiant_won': False},\n",
       " {'avg_mmr': 4541.0,\n",
       "  'heroes': {4: True,\n",
       "   15: False,\n",
       "   28: True,\n",
       "   51: False,\n",
       "   63: False,\n",
       "   68: True,\n",
       "   79: True,\n",
       "   103: False,\n",
       "   112: False,\n",
       "   114: True},\n",
       "  'id': 3432354201,\n",
       "  'parse_status': 'OK',\n",
       "  'radiant_won': False},\n",
       " {'id': 3432354202, 'parse_status': 'No match info'},\n",
       " {'avg_mmr': None,\n",
       "  'heroes': {8: True,\n",
       "   22: True,\n",
       "   26: True,\n",
       "   32: False,\n",
       "   42: False,\n",
       "   43: False,\n",
       "   58: False,\n",
       "   65: True,\n",
       "   70: True,\n",
       "   106: False},\n",
       "  'id': 3432354203,\n",
       "  'parse_status': 'OK',\n",
       "  'radiant_won': True},\n",
       " {'avg_mmr': 2287.3333333333335,\n",
       "  'heroes': {10: False,\n",
       "   14: True,\n",
       "   32: True,\n",
       "   39: True,\n",
       "   40: True,\n",
       "   74: False,\n",
       "   76: False,\n",
       "   79: False,\n",
       "   96: True,\n",
       "   110: False},\n",
       "  'id': 3432354204,\n",
       "  'parse_status': 'OK',\n",
       "  'radiant_won': True},\n",
       " {'avg_mmr': 2247.0,\n",
       "  'heroes': {3: False,\n",
       "   6: False,\n",
       "   12: True,\n",
       "   35: False,\n",
       "   41: False,\n",
       "   57: True,\n",
       "   68: False,\n",
       "   71: True,\n",
       "   73: True,\n",
       "   102: True},\n",
       "  'id': 3432354205,\n",
       "  'parse_status': 'OK',\n",
       "  'radiant_won': True},\n",
       " {'avg_mmr': None,\n",
       "  'heroes': {2: True,\n",
       "   4: True,\n",
       "   11: False,\n",
       "   20: False,\n",
       "   44: False,\n",
       "   59: True,\n",
       "   63: True,\n",
       "   70: False,\n",
       "   81: False,\n",
       "   104: True},\n",
       "  'id': 3432354206,\n",
       "  'parse_status': 'OK',\n",
       "  'radiant_won': True},\n",
       " {'avg_mmr': 3150.6,\n",
       "  'heroes': {4: True,\n",
       "   36: True,\n",
       "   46: True,\n",
       "   48: False,\n",
       "   49: False,\n",
       "   59: True,\n",
       "   61: False,\n",
       "   63: True,\n",
       "   87: False,\n",
       "   104: False},\n",
       "  'id': 3432354207,\n",
       "  'parse_status': 'OK',\n",
       "  'radiant_won': False},\n",
       " {'avg_mmr': 3399.6666666666665,\n",
       "  'heroes': {4: True,\n",
       "   7: False,\n",
       "   20: True,\n",
       "   27: False,\n",
       "   36: False,\n",
       "   42: False,\n",
       "   78: False,\n",
       "   89: True,\n",
       "   94: True,\n",
       "   97: True},\n",
       "  'id': 3432354208,\n",
       "  'parse_status': 'OK',\n",
       "  'radiant_won': False},\n",
       " {'avg_mmr': None,\n",
       "  'heroes': {2: True,\n",
       "   4: False,\n",
       "   19: False,\n",
       "   27: True,\n",
       "   37: False,\n",
       "   43: True,\n",
       "   44: False,\n",
       "   81: False,\n",
       "   95: True,\n",
       "   104: True},\n",
       "  'id': 3432354209,\n",
       "  'parse_status': 'OK',\n",
       "  'radiant_won': False},\n",
       " {'avg_mmr': 2460.5,\n",
       "  'heroes': {2: True,\n",
       "   7: True,\n",
       "   8: False,\n",
       "   50: False,\n",
       "   54: False,\n",
       "   59: True,\n",
       "   68: False,\n",
       "   74: True,\n",
       "   84: True,\n",
       "   103: False},\n",
       "  'id': 3432354210,\n",
       "  'parse_status': 'OK',\n",
       "  'radiant_won': False},\n",
       " {'id': 3432354211, 'parse_status': 'No match info'},\n",
       " {'id': 3432354212, 'parse_status': 'No match info'},\n",
       " {'id': 3432354213, 'parse_status': 'No match info'},\n",
       " {'id': 3432354214, 'parse_status': 'No match info'},\n",
       " {'id': 3432354215, 'parse_status': 'No match info'},\n",
       " {'id': 3432354216, 'parse_status': 'No match info'}]"
      ]
     },
     "execution_count": 6,
     "metadata": {},
     "output_type": "execute_result"
    }
   ],
   "source": [
    "n_matches_parser(match_id,20)"
   ]
  },
  {
   "cell_type": "code",
   "execution_count": 33,
   "metadata": {
    "collapsed": true
   },
   "outputs": [],
   "source": [
    "#parse_match(match_id+14)"
   ]
  },
  {
   "cell_type": "code",
   "execution_count": 38,
   "metadata": {},
   "outputs": [
    {
     "name": "stdout",
     "output_type": "stream",
     "text": [
      "1\n",
      "726 µs ± 0 ns per loop (mean ± std. dev. of 1 run, 1 loop each)\n"
     ]
    }
   ],
   "source": [
    "%%timeit -n 1 -r 1"
   ]
  },
  {
   "cell_type": "code",
   "execution_count": null,
   "metadata": {
    "collapsed": true
   },
   "outputs": [],
   "source": []
  },
  {
   "cell_type": "code",
   "execution_count": null,
   "metadata": {
    "collapsed": true
   },
   "outputs": [],
   "source": []
  },
  {
   "cell_type": "code",
   "execution_count": null,
   "metadata": {
    "collapsed": true
   },
   "outputs": [],
   "source": []
  },
  {
   "cell_type": "code",
   "execution_count": null,
   "metadata": {
    "collapsed": true
   },
   "outputs": [],
   "source": []
  },
  {
   "cell_type": "code",
   "execution_count": null,
   "metadata": {
    "collapsed": true
   },
   "outputs": [],
   "source": []
  }
 ],
 "metadata": {
  "kernelspec": {
   "display_name": "Python 3",
   "language": "python",
   "name": "python3"
  },
  "language_info": {
   "codemirror_mode": {
    "name": "ipython",
    "version": 3
   },
   "file_extension": ".py",
   "mimetype": "text/x-python",
   "name": "python",
   "nbconvert_exporter": "python",
   "pygments_lexer": "ipython3",
   "version": "3.6.2"
  }
 },
 "nbformat": 4,
 "nbformat_minor": 2
}
