{
 "cells": [
  {
   "cell_type": "markdown",
   "metadata": {},
   "source": [
    "just a project"
   ]
  },
  {
   "cell_type": "markdown",
   "metadata": {},
   "source": [
    "here we import some necessary libs"
   ]
  },
  {
   "cell_type": "code",
   "execution_count": 165,
   "metadata": {
    "collapsed": true
   },
   "outputs": [],
   "source": [
    "import json\n",
    "import requests\n",
    "import time"
   ]
  },
  {
   "cell_type": "markdown",
   "metadata": {},
   "source": [
    "first we get a dict of all heroes, key=id, value=name"
   ]
  },
  {
   "cell_type": "code",
   "execution_count": 152,
   "metadata": {},
   "outputs": [],
   "source": [
    "def all_heroes():\n",
    "    all_heroes={}\n",
    "    r=requests.get(\"https://api.opendota.com/api/heroes\")\n",
    "    heroes_raw=json.loads(r.text)\n",
    "    for hero in heroes_raw:\n",
    "        all_heroes[hero['id']]=hero['localized_name']\n",
    "    return all_heroes"
   ]
  },
  {
   "cell_type": "code",
   "execution_count": 153,
   "metadata": {},
   "outputs": [],
   "source": [
    "match_id=3432354197"
   ]
  },
  {
   "cell_type": "markdown",
   "metadata": {},
   "source": [
    "here we form a match_info dict<br/>\n",
    "it has:\n",
    "* match_id\n",
    "* which faction won the match\n",
    "* list of heroes separated by faction"
   ]
  },
  {
   "cell_type": "code",
   "execution_count": 160,
   "metadata": {},
   "outputs": [],
   "source": [
    "#returns full_match_info_dict from opendota api\n",
    "def full_match_info_dict(match_id):\n",
    "    r=requests.get(\"https://api.opendota.com/api/matches/{0}\".format(match_id))\n",
    "    return json.loads(r.text)\n",
    "\n",
    "#calculates avg_mmr of a match\n",
    "def avg_mmr(full_match_info_dict):\n",
    "    ranks=[]\n",
    "    for i in range(10):\n",
    "        ranks.append(full_match_info_dict['players'][i]['solo_competitive_rank'])\n",
    "    ranks=list(filter(None.__ne__, ranks))\n",
    "    return sum(ranks)/len(ranks)\n",
    "    \n",
    "    \n",
    "#returns match_id of a match\n",
    "def match_id_parser(full_match_info_dict):\n",
    "    return full_match_info_dict['match_id']\n",
    "\n",
    "#returns True if Radiant won the match\n",
    "def radiant_won(full_match_info_dict):\n",
    "    return full_match_info['radiant_win']\n",
    "\n",
    "#returns a dict that looks like hero_id:is_radiant(bool)\n",
    "def match_heroes(full_match_info_dict):\n",
    "    heroes={}\n",
    "    for i in range(10):\n",
    "        heroes[full_match_info_dict['players'][i]['hero_id']]=full_match_info_dict['players'][i]['isRadiant']\n",
    "    return heroes\n",
    "\n",
    "#compiles all info about a match\n",
    "#input = match_id, output = match_info_dict\n",
    "def parse_match(match_id):\n",
    "    raw_match_info = full_match_info_dict(match_id)\n",
    "    \n",
    "    match_info={}\n",
    "    \n",
    "    match_info['id']=match_id_parser(raw_match_info) #нужно ли это, или можно брать match_id напрямую\n",
    "    \n",
    "    match_info['avg_mmr']=avg_mmr(raw_match_info)\n",
    "    \n",
    "    match_info['radiant_won']=radiant_won(raw_match_info)\n",
    "    \n",
    "    match_info['heroes']=match_heroes(raw_match_info)\n",
    "    \n",
    "    return match_info"
   ]
  },
  {
   "cell_type": "markdown",
   "metadata": {},
   "source": [
    "here we try to parse several matches"
   ]
  },
  {
   "cell_type": "code",
   "execution_count": 166,
   "metadata": {},
   "outputs": [],
   "source": [
    "#returns a dict of a match_info dicts\n",
    "#request rate ≈ 3/sec\n",
    "def n_matches_parser(starting_id,n):\n",
    "    parsed_matches=[]\n",
    "    for i in range(n):\n",
    "        parsed_matches.append(parse_match(starting_id+i))\n",
    "        time.sleep(0.33)\n",
    "    return parsed_matches\n",
    "        "
   ]
  },
  {
   "cell_type": "code",
   "execution_count": 167,
   "metadata": {},
   "outputs": [
    {
     "ename": "ZeroDivisionError",
     "evalue": "division by zero",
     "output_type": "error",
     "traceback": [
      "\u001b[0;31m---------------------------------------------------------------------------\u001b[0m",
      "\u001b[0;31mZeroDivisionError\u001b[0m                         Traceback (most recent call last)",
      "\u001b[0;32m<ipython-input-167-c720dadc695d>\u001b[0m in \u001b[0;36m<module>\u001b[0;34m()\u001b[0m\n\u001b[0;32m----> 1\u001b[0;31m \u001b[0mn_matches_parser\u001b[0m\u001b[0;34m(\u001b[0m\u001b[0mmatch_id\u001b[0m\u001b[0;34m,\u001b[0m\u001b[0;36m10\u001b[0m\u001b[0;34m)\u001b[0m\u001b[0;34m\u001b[0m\u001b[0m\n\u001b[0m",
      "\u001b[0;32m<ipython-input-166-39509b071797>\u001b[0m in \u001b[0;36mn_matches_parser\u001b[0;34m(starting_id, n)\u001b[0m\n\u001b[1;32m      4\u001b[0m     \u001b[0mparsed_matches\u001b[0m\u001b[0;34m=\u001b[0m\u001b[0;34m[\u001b[0m\u001b[0;34m]\u001b[0m\u001b[0;34m\u001b[0m\u001b[0m\n\u001b[1;32m      5\u001b[0m     \u001b[0;32mfor\u001b[0m \u001b[0mi\u001b[0m \u001b[0;32min\u001b[0m \u001b[0mrange\u001b[0m\u001b[0;34m(\u001b[0m\u001b[0mn\u001b[0m\u001b[0;34m)\u001b[0m\u001b[0;34m:\u001b[0m\u001b[0;34m\u001b[0m\u001b[0m\n\u001b[0;32m----> 6\u001b[0;31m         \u001b[0mparsed_matches\u001b[0m\u001b[0;34m.\u001b[0m\u001b[0mappend\u001b[0m\u001b[0;34m(\u001b[0m\u001b[0mparse_match\u001b[0m\u001b[0;34m(\u001b[0m\u001b[0mstarting_id\u001b[0m\u001b[0;34m+\u001b[0m\u001b[0mi\u001b[0m\u001b[0;34m)\u001b[0m\u001b[0;34m)\u001b[0m\u001b[0;34m\u001b[0m\u001b[0m\n\u001b[0m\u001b[1;32m      7\u001b[0m         \u001b[0mtime\u001b[0m\u001b[0;34m.\u001b[0m\u001b[0msleep\u001b[0m\u001b[0;34m(\u001b[0m\u001b[0;36m0.33\u001b[0m\u001b[0;34m)\u001b[0m\u001b[0;34m\u001b[0m\u001b[0m\n\u001b[1;32m      8\u001b[0m     \u001b[0;32mreturn\u001b[0m \u001b[0mparsed_matches\u001b[0m\u001b[0;34m\u001b[0m\u001b[0m\n",
      "\u001b[0;32m<ipython-input-160-bf1013e374bd>\u001b[0m in \u001b[0;36mparse_match\u001b[0;34m(match_id)\u001b[0m\n\u001b[1;32m     37\u001b[0m     \u001b[0mmatch_info\u001b[0m\u001b[0;34m[\u001b[0m\u001b[0;34m'id'\u001b[0m\u001b[0;34m]\u001b[0m\u001b[0;34m=\u001b[0m\u001b[0mmatch_id_parser\u001b[0m\u001b[0;34m(\u001b[0m\u001b[0mraw_match_info\u001b[0m\u001b[0;34m)\u001b[0m \u001b[0;31m#нужно ли это, или можно брать match_id напрямую\u001b[0m\u001b[0;34m\u001b[0m\u001b[0m\n\u001b[1;32m     38\u001b[0m \u001b[0;34m\u001b[0m\u001b[0m\n\u001b[0;32m---> 39\u001b[0;31m     \u001b[0mmatch_info\u001b[0m\u001b[0;34m[\u001b[0m\u001b[0;34m'avg_mmr'\u001b[0m\u001b[0;34m]\u001b[0m\u001b[0;34m=\u001b[0m\u001b[0mavg_mmr\u001b[0m\u001b[0;34m(\u001b[0m\u001b[0mraw_match_info\u001b[0m\u001b[0;34m)\u001b[0m\u001b[0;34m\u001b[0m\u001b[0m\n\u001b[0m\u001b[1;32m     40\u001b[0m \u001b[0;34m\u001b[0m\u001b[0m\n\u001b[1;32m     41\u001b[0m     \u001b[0mmatch_info\u001b[0m\u001b[0;34m[\u001b[0m\u001b[0;34m'radiant_won'\u001b[0m\u001b[0;34m]\u001b[0m\u001b[0;34m=\u001b[0m\u001b[0mradiant_won\u001b[0m\u001b[0;34m(\u001b[0m\u001b[0mraw_match_info\u001b[0m\u001b[0;34m)\u001b[0m\u001b[0;34m\u001b[0m\u001b[0m\n",
      "\u001b[0;32m<ipython-input-160-bf1013e374bd>\u001b[0m in \u001b[0;36mavg_mmr\u001b[0;34m(full_match_info_dict)\u001b[0m\n\u001b[1;32m     10\u001b[0m         \u001b[0mranks\u001b[0m\u001b[0;34m.\u001b[0m\u001b[0mappend\u001b[0m\u001b[0;34m(\u001b[0m\u001b[0mfull_match_info_dict\u001b[0m\u001b[0;34m[\u001b[0m\u001b[0;34m'players'\u001b[0m\u001b[0;34m]\u001b[0m\u001b[0;34m[\u001b[0m\u001b[0mi\u001b[0m\u001b[0;34m]\u001b[0m\u001b[0;34m[\u001b[0m\u001b[0;34m'solo_competitive_rank'\u001b[0m\u001b[0;34m]\u001b[0m\u001b[0;34m)\u001b[0m\u001b[0;34m\u001b[0m\u001b[0m\n\u001b[1;32m     11\u001b[0m     \u001b[0mranks\u001b[0m\u001b[0;34m=\u001b[0m\u001b[0mlist\u001b[0m\u001b[0;34m(\u001b[0m\u001b[0mfilter\u001b[0m\u001b[0;34m(\u001b[0m\u001b[0;32mNone\u001b[0m\u001b[0;34m.\u001b[0m\u001b[0m__ne__\u001b[0m\u001b[0;34m,\u001b[0m \u001b[0mranks\u001b[0m\u001b[0;34m)\u001b[0m\u001b[0;34m)\u001b[0m\u001b[0;34m\u001b[0m\u001b[0m\n\u001b[0;32m---> 12\u001b[0;31m     \u001b[0;32mreturn\u001b[0m \u001b[0msum\u001b[0m\u001b[0;34m(\u001b[0m\u001b[0mranks\u001b[0m\u001b[0;34m)\u001b[0m\u001b[0;34m/\u001b[0m\u001b[0mlen\u001b[0m\u001b[0;34m(\u001b[0m\u001b[0mranks\u001b[0m\u001b[0;34m)\u001b[0m\u001b[0;34m\u001b[0m\u001b[0m\n\u001b[0m\u001b[1;32m     13\u001b[0m \u001b[0;34m\u001b[0m\u001b[0m\n\u001b[1;32m     14\u001b[0m \u001b[0;34m\u001b[0m\u001b[0m\n",
      "\u001b[0;31mZeroDivisionError\u001b[0m: division by zero"
     ]
    }
   ],
   "source": [
    "n_matches_parser(match_id,10)"
   ]
  },
  {
   "cell_type": "code",
   "execution_count": 179,
   "metadata": {},
   "outputs": [
    {
     "ename": "KeyError",
     "evalue": "'match_id'",
     "output_type": "error",
     "traceback": [
      "\u001b[0;31m---------------------------------------------------------------------------\u001b[0m",
      "\u001b[0;31mKeyError\u001b[0m                                  Traceback (most recent call last)",
      "\u001b[0;32m<ipython-input-179-87151f42d702>\u001b[0m in \u001b[0;36m<module>\u001b[0;34m()\u001b[0m\n\u001b[0;32m----> 1\u001b[0;31m \u001b[0mparse_match\u001b[0m\u001b[0;34m(\u001b[0m\u001b[0mmatch_id\u001b[0m\u001b[0;34m+\u001b[0m\u001b[0;36m14\u001b[0m\u001b[0;34m)\u001b[0m\u001b[0;34m\u001b[0m\u001b[0m\n\u001b[0m",
      "\u001b[0;32m<ipython-input-160-bf1013e374bd>\u001b[0m in \u001b[0;36mparse_match\u001b[0;34m(match_id)\u001b[0m\n\u001b[1;32m     35\u001b[0m     \u001b[0mmatch_info\u001b[0m\u001b[0;34m=\u001b[0m\u001b[0;34m{\u001b[0m\u001b[0;34m}\u001b[0m\u001b[0;34m\u001b[0m\u001b[0m\n\u001b[1;32m     36\u001b[0m \u001b[0;34m\u001b[0m\u001b[0m\n\u001b[0;32m---> 37\u001b[0;31m     \u001b[0mmatch_info\u001b[0m\u001b[0;34m[\u001b[0m\u001b[0;34m'id'\u001b[0m\u001b[0;34m]\u001b[0m\u001b[0;34m=\u001b[0m\u001b[0mmatch_id_parser\u001b[0m\u001b[0;34m(\u001b[0m\u001b[0mraw_match_info\u001b[0m\u001b[0;34m)\u001b[0m \u001b[0;31m#нужно ли это, или можно брать match_id напрямую\u001b[0m\u001b[0;34m\u001b[0m\u001b[0m\n\u001b[0m\u001b[1;32m     38\u001b[0m \u001b[0;34m\u001b[0m\u001b[0m\n\u001b[1;32m     39\u001b[0m     \u001b[0mmatch_info\u001b[0m\u001b[0;34m[\u001b[0m\u001b[0;34m'avg_mmr'\u001b[0m\u001b[0;34m]\u001b[0m\u001b[0;34m=\u001b[0m\u001b[0mavg_mmr\u001b[0m\u001b[0;34m(\u001b[0m\u001b[0mraw_match_info\u001b[0m\u001b[0;34m)\u001b[0m\u001b[0;34m\u001b[0m\u001b[0m\n",
      "\u001b[0;32m<ipython-input-160-bf1013e374bd>\u001b[0m in \u001b[0;36mmatch_id_parser\u001b[0;34m(full_match_info_dict)\u001b[0m\n\u001b[1;32m     15\u001b[0m \u001b[0;31m#returns match_id of a match\u001b[0m\u001b[0;34m\u001b[0m\u001b[0;34m\u001b[0m\u001b[0m\n\u001b[1;32m     16\u001b[0m \u001b[0;32mdef\u001b[0m \u001b[0mmatch_id_parser\u001b[0m\u001b[0;34m(\u001b[0m\u001b[0mfull_match_info_dict\u001b[0m\u001b[0;34m)\u001b[0m\u001b[0;34m:\u001b[0m\u001b[0;34m\u001b[0m\u001b[0m\n\u001b[0;32m---> 17\u001b[0;31m     \u001b[0;32mreturn\u001b[0m \u001b[0mfull_match_info_dict\u001b[0m\u001b[0;34m[\u001b[0m\u001b[0;34m'match_id'\u001b[0m\u001b[0;34m]\u001b[0m\u001b[0;34m\u001b[0m\u001b[0m\n\u001b[0m\u001b[1;32m     18\u001b[0m \u001b[0;34m\u001b[0m\u001b[0m\n\u001b[1;32m     19\u001b[0m \u001b[0;31m#returns True if Radiant won the match\u001b[0m\u001b[0;34m\u001b[0m\u001b[0;34m\u001b[0m\u001b[0m\n",
      "\u001b[0;31mKeyError\u001b[0m: 'match_id'"
     ]
    }
   ],
   "source": [
    "parse_match(match_id+14)"
   ]
  },
  {
   "cell_type": "code",
   "execution_count": 181,
   "metadata": {},
   "outputs": [
    {
     "data": {
      "text/plain": [
       "{'error': 'Not Found'}"
      ]
     },
     "execution_count": 181,
     "metadata": {},
     "output_type": "execute_result"
    }
   ],
   "source": [
    "full_match_info_dict(match_id+14)"
   ]
  },
  {
   "cell_type": "code",
   "execution_count": null,
   "metadata": {},
   "outputs": [],
   "source": []
  },
  {
   "cell_type": "code",
   "execution_count": null,
   "metadata": {},
   "outputs": [],
   "source": []
  },
  {
   "cell_type": "code",
   "execution_count": null,
   "metadata": {},
   "outputs": [],
   "source": []
  },
  {
   "cell_type": "code",
   "execution_count": null,
   "metadata": {},
   "outputs": [],
   "source": []
  },
  {
   "cell_type": "code",
   "execution_count": null,
   "metadata": {
    "collapsed": true
   },
   "outputs": [],
   "source": []
  }
 ],
 "metadata": {
  "kernelspec": {
   "display_name": "Python 3",
   "language": "python",
   "name": "python3"
  },
  "language_info": {
   "codemirror_mode": {
    "name": "ipython",
    "version": 3
   },
   "file_extension": ".py",
   "mimetype": "text/x-python",
   "name": "python",
   "nbconvert_exporter": "python",
   "pygments_lexer": "ipython3",
   "version": "3.6.2"
  }
 },
 "nbformat": 4,
 "nbformat_minor": 2
}
